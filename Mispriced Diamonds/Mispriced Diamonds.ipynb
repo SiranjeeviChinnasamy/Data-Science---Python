{
 "cells": [
  {
   "cell_type": "code",
   "execution_count": 1,
   "metadata": {},
   "outputs": [],
   "source": [
    "import numpy as np\n",
    "import pandas as pd\n",
    "import matplotlib.pyplot as plt\n",
    "%matplotlib inline"
   ]
  },
  {
   "cell_type": "code",
   "execution_count": 2,
   "metadata": {},
   "outputs": [],
   "source": [
    "df = pd.read_csv(r'C:\\Users\\Siranjeevi C\\Data Science - Python\\Mispriced Diamonds\\Mispriced-Diamonds.csv')\n"
   ]
  },
  {
   "cell_type": "code",
   "execution_count": 3,
   "metadata": {},
   "outputs": [],
   "source": [
    "def remove_outlier(df_in, col_name):\n",
    "    q1 = df_in[col_name].quantile(0.25)\n",
    "    q3 = df_in[col_name].quantile(0.75)\n",
    "    iqr = q3-q1 #Interquartile range\n",
    "    fence_low  = q1-1.5*iqr\n",
    "    fence_high = q3+1.5*iqr\n",
    "    df_out = df_in.loc[(df_in[col_name] > fence_low) & (df_in[col_name] < fence_high)]\n",
    "    return df_out"
   ]
  },
  {
   "cell_type": "code",
   "execution_count": 4,
   "metadata": {},
   "outputs": [
    {
     "data": {
      "text/plain": [
       "(50400, 3)"
      ]
     },
     "execution_count": 4,
     "metadata": {},
     "output_type": "execute_result"
    }
   ],
   "source": [
    "df = remove_outlier(df,'price')\n",
    "df.shape"
   ]
  },
  {
   "cell_type": "code",
   "execution_count": 5,
   "metadata": {},
   "outputs": [],
   "source": [
    "#collecting X and Y\n",
    "X = df['carat'].values\n",
    "Y = df['price'].values"
   ]
  },
  {
   "cell_type": "code",
   "execution_count": 6,
   "metadata": {},
   "outputs": [
    {
     "data": {
      "text/plain": [
       "<bound method DataFrame.info of        carat clarity  price\n",
       "0       0.23     SI2    326\n",
       "1       0.21     SI1    326\n",
       "2       0.23     VS1    327\n",
       "3       0.29     VS2    334\n",
       "4       0.31     SI2    335\n",
       "5       0.24    VVS2    336\n",
       "6       0.24    VVS1    336\n",
       "7       0.26     SI1    337\n",
       "8       0.22     VS2    337\n",
       "9       0.23     VS1    338\n",
       "10      0.30     SI1    339\n",
       "11      0.23     VS1    340\n",
       "12      0.22     SI1    342\n",
       "13      0.31     SI2    344\n",
       "14      0.20     SI2    345\n",
       "15      0.32      I1    345\n",
       "16      0.30     SI2    348\n",
       "17      0.30     SI1    351\n",
       "18      0.30     SI1    351\n",
       "19      0.30     SI1    351\n",
       "20      0.30     SI2    351\n",
       "21      0.23     VS2    352\n",
       "22      0.23     VS1    353\n",
       "23      0.31     SI1    353\n",
       "24      0.31     SI1    353\n",
       "25      0.23    VVS2    354\n",
       "26      0.24     VS1    355\n",
       "27      0.30     VS2    357\n",
       "28      0.23     VS2    357\n",
       "29      0.23     VS1    357\n",
       "...      ...     ...    ...\n",
       "53910   0.70     SI1   2753\n",
       "53911   0.57      IF   2753\n",
       "53912   0.61    VVS1   2753\n",
       "53913   0.80     VS2   2753\n",
       "53914   0.84     VS1   2753\n",
       "53915   0.77     SI2   2753\n",
       "53916   0.74     SI1   2753\n",
       "53917   0.90     SI1   2753\n",
       "53918   0.76     VS1   2753\n",
       "53919   0.76    VVS1   2753\n",
       "53920   0.70     VS2   2755\n",
       "53921   0.70     VS2   2755\n",
       "53922   0.70     VS1   2755\n",
       "53923   0.73     VS2   2756\n",
       "53924   0.73     VS2   2756\n",
       "53925   0.79     SI1   2756\n",
       "53926   0.71     SI1   2756\n",
       "53927   0.79     SI1   2756\n",
       "53928   0.79     SI2   2756\n",
       "53929   0.71     VS1   2756\n",
       "53930   0.71     SI1   2756\n",
       "53931   0.71     SI1   2756\n",
       "53932   0.70     VS2   2757\n",
       "53933   0.70     VS2   2757\n",
       "53934   0.72     SI1   2757\n",
       "53935   0.72     SI1   2757\n",
       "53936   0.72     SI1   2757\n",
       "53937   0.70     SI1   2757\n",
       "53938   0.86     SI2   2757\n",
       "53939   0.75     SI2   2757\n",
       "\n",
       "[50400 rows x 3 columns]>"
      ]
     },
     "execution_count": 6,
     "metadata": {},
     "output_type": "execute_result"
    }
   ],
   "source": [
    "df.info"
   ]
  },
  {
   "cell_type": "code",
   "execution_count": 7,
   "metadata": {},
   "outputs": [
    {
     "data": {
      "text/html": [
       "<div>\n",
       "<style scoped>\n",
       "    .dataframe tbody tr th:only-of-type {\n",
       "        vertical-align: middle;\n",
       "    }\n",
       "\n",
       "    .dataframe tbody tr th {\n",
       "        vertical-align: top;\n",
       "    }\n",
       "\n",
       "    .dataframe thead th {\n",
       "        text-align: right;\n",
       "    }\n",
       "</style>\n",
       "<table border=\"1\" class=\"dataframe\">\n",
       "  <thead>\n",
       "    <tr style=\"text-align: right;\">\n",
       "      <th></th>\n",
       "      <th>carat</th>\n",
       "      <th>price</th>\n",
       "    </tr>\n",
       "  </thead>\n",
       "  <tbody>\n",
       "    <tr>\n",
       "      <th>count</th>\n",
       "      <td>50400.000000</td>\n",
       "      <td>50400.000000</td>\n",
       "    </tr>\n",
       "    <tr>\n",
       "      <th>mean</th>\n",
       "      <td>0.723657</td>\n",
       "      <td>3159.460833</td>\n",
       "    </tr>\n",
       "    <tr>\n",
       "      <th>std</th>\n",
       "      <td>0.383757</td>\n",
       "      <td>2764.700316</td>\n",
       "    </tr>\n",
       "    <tr>\n",
       "      <th>min</th>\n",
       "      <td>0.200000</td>\n",
       "      <td>326.000000</td>\n",
       "    </tr>\n",
       "    <tr>\n",
       "      <th>25%</th>\n",
       "      <td>0.380000</td>\n",
       "      <td>911.000000</td>\n",
       "    </tr>\n",
       "    <tr>\n",
       "      <th>50%</th>\n",
       "      <td>0.700000</td>\n",
       "      <td>2155.000000</td>\n",
       "    </tr>\n",
       "    <tr>\n",
       "      <th>75%</th>\n",
       "      <td>1.010000</td>\n",
       "      <td>4669.000000</td>\n",
       "    </tr>\n",
       "    <tr>\n",
       "      <th>max</th>\n",
       "      <td>3.650000</td>\n",
       "      <td>11883.000000</td>\n",
       "    </tr>\n",
       "  </tbody>\n",
       "</table>\n",
       "</div>"
      ],
      "text/plain": [
       "              carat         price\n",
       "count  50400.000000  50400.000000\n",
       "mean       0.723657   3159.460833\n",
       "std        0.383757   2764.700316\n",
       "min        0.200000    326.000000\n",
       "25%        0.380000    911.000000\n",
       "50%        0.700000   2155.000000\n",
       "75%        1.010000   4669.000000\n",
       "max        3.650000  11883.000000"
      ]
     },
     "execution_count": 7,
     "metadata": {},
     "output_type": "execute_result"
    }
   ],
   "source": [
    "df.describe()"
   ]
  },
  {
   "cell_type": "code",
   "execution_count": 8,
   "metadata": {},
   "outputs": [],
   "source": [
    "from sklearn.preprocessing import LabelEncoder \n",
    "encoder = LabelEncoder()\n",
    "df['clarity'] = encoder.fit_transform(df['clarity'])"
   ]
  },
  {
   "cell_type": "code",
   "execution_count": 9,
   "metadata": {},
   "outputs": [
    {
     "data": {
      "text/html": [
       "<div>\n",
       "<style scoped>\n",
       "    .dataframe tbody tr th:only-of-type {\n",
       "        vertical-align: middle;\n",
       "    }\n",
       "\n",
       "    .dataframe tbody tr th {\n",
       "        vertical-align: top;\n",
       "    }\n",
       "\n",
       "    .dataframe thead th {\n",
       "        text-align: right;\n",
       "    }\n",
       "</style>\n",
       "<table border=\"1\" class=\"dataframe\">\n",
       "  <thead>\n",
       "    <tr style=\"text-align: right;\">\n",
       "      <th></th>\n",
       "      <th>carat</th>\n",
       "      <th>clarity</th>\n",
       "      <th>price</th>\n",
       "    </tr>\n",
       "  </thead>\n",
       "  <tbody>\n",
       "    <tr>\n",
       "      <th>0</th>\n",
       "      <td>0.23</td>\n",
       "      <td>3</td>\n",
       "      <td>326</td>\n",
       "    </tr>\n",
       "    <tr>\n",
       "      <th>1</th>\n",
       "      <td>0.21</td>\n",
       "      <td>2</td>\n",
       "      <td>326</td>\n",
       "    </tr>\n",
       "    <tr>\n",
       "      <th>2</th>\n",
       "      <td>0.23</td>\n",
       "      <td>4</td>\n",
       "      <td>327</td>\n",
       "    </tr>\n",
       "    <tr>\n",
       "      <th>3</th>\n",
       "      <td>0.29</td>\n",
       "      <td>5</td>\n",
       "      <td>334</td>\n",
       "    </tr>\n",
       "    <tr>\n",
       "      <th>4</th>\n",
       "      <td>0.31</td>\n",
       "      <td>3</td>\n",
       "      <td>335</td>\n",
       "    </tr>\n",
       "  </tbody>\n",
       "</table>\n",
       "</div>"
      ],
      "text/plain": [
       "   carat  clarity  price\n",
       "0   0.23        3    326\n",
       "1   0.21        2    326\n",
       "2   0.23        4    327\n",
       "3   0.29        5    334\n",
       "4   0.31        3    335"
      ]
     },
     "execution_count": 9,
     "metadata": {},
     "output_type": "execute_result"
    }
   ],
   "source": [
    "df.head(5)"
   ]
  },
  {
   "cell_type": "markdown",
   "metadata": {},
   "source": [
    "# Train Data "
   ]
  },
  {
   "cell_type": "code",
   "execution_count": 10,
   "metadata": {},
   "outputs": [],
   "source": [
    "x = df.drop(['price'], axis = 1)\n",
    "y = df['price']"
   ]
  },
  {
   "cell_type": "code",
   "execution_count": 11,
   "metadata": {},
   "outputs": [
    {
     "data": {
      "text/plain": [
       "LinearRegression(copy_X=True, fit_intercept=True, n_jobs=None,\n",
       "         normalize=False)"
      ]
     },
     "execution_count": 11,
     "metadata": {},
     "output_type": "execute_result"
    }
   ],
   "source": [
    "from sklearn.model_selection import train_test_split\n",
    "from sklearn.linear_model import LinearRegression\n",
    "x_train, x_test, y_train, y_test = train_test_split(x, y, test_size=0.30, random_state=3)\n",
    "model = LinearRegression()\n",
    "model.fit(x_train,y_train)"
   ]
  },
  {
   "cell_type": "code",
   "execution_count": 12,
   "metadata": {},
   "outputs": [],
   "source": [
    "y_pred = model.predict(x_test)"
   ]
  },
  {
   "cell_type": "code",
   "execution_count": 13,
   "metadata": {},
   "outputs": [
    {
     "name": "stdout",
     "output_type": "stream",
     "text": [
      "R2 Score is  0.8428887104418168\n",
      "Mean_squared_Error 1026764.5216851592\n"
     ]
    }
   ],
   "source": [
    "from sklearn.metrics import r2_score,mean_squared_error\n",
    "print('R2 Score is ', r2_score(y_pred,y_test))\n",
    "print('Mean_squared_Error', mean_squared_error(y_pred,y_test))"
   ]
  },
  {
   "cell_type": "code",
   "execution_count": 20,
   "metadata": {},
   "outputs": [
    {
     "data": {
      "image/png": "[encoded data removed]",
      "text/plain": [
       "<Figure size 720x720 with 1 Axes>"
      ]
     },
     "metadata": {
      "needs_background": "light"
     },
     "output_type": "display_data"
    }
   ],
   "source": [
    "plt.rcParams['figure.figsize'] = [10,10]\n",
    "plt.scatter(model.predict(x_train), model.predict(x_train)-y_train)\n",
    "plt.scatter(model.predict(x_test), model.predict(x_test)-y_test)\n",
    "plt.title('Residual plot')\n",
    "plt.show()"
   ]
  },
  {
   "cell_type": "code",
   "execution_count": 15,
   "metadata": {},
   "outputs": [
    {
     "name": "stdout",
     "output_type": "stream",
     "text": [
      "6597.868840279988 -1615.1314623679327\n"
     ]
    }
   ],
   "source": [
    "#Gradient Descent method\n",
    "#Mean of X and Y\n",
    "Mean_X = np.mean(X)\n",
    "Mean_Y = np.mean(Y)\n",
    "#Total number of values \n",
    "m = len(X)\n",
    "#using the formula to calculate b1 and b0\n",
    "numer = 0\n",
    "denom = 0\n",
    "\n",
    "for i in range (m):\n",
    "    numer += (X[i]-Mean_X)*(Y[i]-Mean_Y)\n",
    "    denom += (X[i]-Mean_X)**2\n",
    "    \n",
    "b1 = numer / denom\n",
    "b0 = Mean_Y - b1*Mean_X\n",
    "print(b1, b0)"
   ]
  }
 ],
 "metadata": {
  "kernelspec": {
   "display_name": "Python 3",
   "language": "python",
   "name": "python3"
  },
  "language_info": {
   "codemirror_mode": {
    "name": "ipython",
    "version": 3
   },
   "file_extension": ".py",
   "mimetype": "text/x-python",
   "name": "python",
   "nbconvert_exporter": "python",
   "pygments_lexer": "ipython3",
   "version": "3.7.1"
  }
 },
 "nbformat": 4,
 "nbformat_minor": 2
}
